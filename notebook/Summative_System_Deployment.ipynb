{
  "nbformat": 4,
  "nbformat_minor": 0,
  "metadata": {
    "colab": {
      "provenance": [],
      "mount_file_id": "1uAfZFNTK2TSe9B-bFDM-aNg63UKC09fi",
      "authorship_tag": "ABX9TyONaHnD/hxnTE7XxcGLEyyj",
      "include_colab_link": true
    },
    "kernelspec": {
      "name": "python3",
      "display_name": "Python 3"
    },
    "language_info": {
      "name": "python"
    }
  },
  "cells": [
    {
      "cell_type": "markdown",
      "metadata": {
        "id": "view-in-github",
        "colab_type": "text"
      },
      "source": [
        "<a href=\"https://colab.research.google.com/github/Skaveza/Summative_System_Deployment/blob/main/Summative_System_Deployment.ipynb\" target=\"_parent\"><img src=\"https://colab.research.google.com/assets/colab-badge.svg\" alt=\"Open In Colab\"/></a>"
      ]
    },
    {
      "cell_type": "markdown",
      "source": [
        "**This notebook demonstrates the retraining of optimized_model_nn3 using the original dataset, as it previously achieved the highest accuracy. To further improve performance, hyperparameter tuning and class weight balancing are applied.**"
      ],
      "metadata": {
        "id": "myNCrzjM74yk"
      }
    },
    {
      "cell_type": "markdown",
      "source": [
        "1. Mount Drive and Import Dependecies"
      ],
      "metadata": {
        "id": "vuWqVsrF6A-f"
      }
    },
    {
      "cell_type": "code",
      "source": [
        "from google.colab import drive\n",
        "import sys\n",
        "import joblib\n",
        "import pandas as pd\n",
        "import numpy as np\n",
        "import tensorflow as tf\n",
        "import matplotlib.pyplot as plt\n",
        "from sklearn.model_selection import train_test_split\n",
        "from sklearn.utils.class_weight import compute_class_weight\n",
        "from tensorflow.keras.models import Sequential, load_model\n",
        "from tensorflow.keras.layers import Dense, BatchNormalization, Dropout\n",
        "from tensorflow.keras.optimizers.schedules import ExponentialDecay\n",
        "from tensorflow.keras.callbacks import EarlyStopping\n",
        "from tensorflow.keras.regularizers import l1_l2\n",
        "\n",
        "# Mount Google Drive\n",
        "drive.mount('/content/drive')\n",
        "\n",
        "# Add path to access preprocessing functions\n",
        "sys.path.append('/content/drive/MyDrive')\n",
        "from preprocessing_code import validate_and_preprocess, prepare_training_data\n",
        "\n",
        "print(\"Functions imported successfully!\")\n"
      ],
      "metadata": {
        "colab": {
          "base_uri": "https://localhost:8080/"
        },
        "id": "wLGsoi1zscMC",
        "outputId": "f324cb98-c166-4e5d-ae06-8025b32e0cad"
      },
      "execution_count": null,
      "outputs": [
        {
          "output_type": "stream",
          "name": "stdout",
          "text": [
            "Drive already mounted at /content/drive; to attempt to forcibly remount, call drive.mount(\"/content/drive\", force_remount=True).\n",
            "Functions imported successfully!\n"
          ]
        }
      ]
    },
    {
      "cell_type": "markdown",
      "source": [
        "2.Load Dataset and Pre-process"
      ],
      "metadata": {
        "id": "94Yk8cLF6XNW"
      }
    },
    {
      "cell_type": "code",
      "source": [
        "# Load dataset from Hugging Face storage or Drive\n",
        "data_path = \"hf://datasets/Pollicy/Uganda_HealthCare_Facilities/Full collected hospital data 6K+ - All healthcare facilities.csv\"\n",
        "df = pd.read_csv(data_path)\n",
        "\n",
        "# Preprocess data using the same functions\n",
        "print(\"Preprocessing data...\")\n",
        "validated_data, _ = validate_and_preprocess(df)\n",
        "prep_result = prepare_training_data(validated_data)\n",
        "\n",
        "# Extract processed features and labels\n",
        "X_resampled = prep_result['X_resampled']\n",
        "y_resampled = prep_result['y_resampled']\n",
        "preprocessors = prep_result['preprocessors']\n"
      ],
      "metadata": {
        "colab": {
          "base_uri": "https://localhost:8080/"
        },
        "id": "RGNOqigcscYB",
        "outputId": "474d0528-5b27-4bd1-dd97-1fb11a91bb45"
      },
      "execution_count": null,
      "outputs": [
        {
          "output_type": "stream",
          "name": "stdout",
          "text": [
            "Preprocessing data...\n",
            "Preprocessors saved successfully at: /content/drive/MyDrive/saved_preprocessors/preprocessors_latest.pkl\n"
          ]
        }
      ]
    },
    {
      "cell_type": "markdown",
      "source": [
        "3.Split Data for Training, Validation and Testing"
      ],
      "metadata": {
        "id": "V2fccoKr61tN"
      }
    },
    {
      "cell_type": "code",
      "source": [
        "# Splitting resampled data\n",
        "X_train, X_test, y_train, y_test = train_test_split(X_resampled, y_resampled, test_size=0.2, random_state=42)\n",
        "X_train, X_val, y_train, y_val = train_test_split(X_train, y_train, test_size=0.25, random_state=42)\n",
        "\n",
        "# Print dataset shapes\n",
        "print(f\"Training set: {X_train.shape[0]} samples, {X_train.shape[1]} features\")\n",
        "print(f\"Validation set: {X_val.shape[0]} samples\")\n",
        "print(f\"Test set: {X_test.shape[0]} samples\")\n"
      ],
      "metadata": {
        "colab": {
          "base_uri": "https://localhost:8080/"
        },
        "id": "qINtSuJyscfj",
        "outputId": "f408fb99-37aa-4fbb-c087-ef5ebf1ca3b7"
      },
      "execution_count": null,
      "outputs": [
        {
          "output_type": "stream",
          "name": "stdout",
          "text": [
            "Training set: 10188 samples, 1701 features\n",
            "Validation set: 3396 samples\n",
            "Test set: 3396 samples\n"
          ]
        }
      ]
    },
    {
      "cell_type": "markdown",
      "source": [
        "4.Define Class Weights\n"
      ],
      "metadata": {
        "id": "5lgtZRNH7wT4"
      }
    },
    {
      "cell_type": "code",
      "source": [
        "def get_class_weights(y_one_hot):\n",
        "    \"\"\"\n",
        "    Compute class weights for a one-hot encoded target variable.\n",
        "    Converts one-hot encoded labels to categorical class labels.\n",
        "    \"\"\"\n",
        "    y_categorical = np.argmax(y_one_hot, axis=1)\n",
        "    class_weights = compute_class_weight(\n",
        "        class_weight=\"balanced\",\n",
        "        classes=np.unique(y_categorical),\n",
        "        y=y_categorical\n",
        "    )\n",
        "    return dict(enumerate(class_weights))\n",
        "\n",
        " #Compute class weights with fixed function\n",
        "class_weights = get_class_weights(y_train)\n",
        "\n",
        "print(\"Class weights computed successfully:\", class_weights)\n",
        "\n"
      ],
      "metadata": {
        "colab": {
          "base_uri": "https://localhost:8080/"
        },
        "id": "drhtIqGN7kYH",
        "outputId": "b55767ec-02fd-4406-acf2-0382cc3fff07"
      },
      "execution_count": null,
      "outputs": [
        {
          "output_type": "stream",
          "name": "stdout",
          "text": [
            "Class weights computed successfully: {0: np.float64(1.0086130086130085), 1: np.float64(0.988646288209607), 2: np.float64(1.0029533372711164)}\n"
          ]
        }
      ]
    },
    {
      "cell_type": "markdown",
      "source": [
        "5. Load and Retrain the Model"
      ],
      "metadata": {
        "id": "n3E7_Fuy9-_B"
      }
    },
    {
      "cell_type": "code",
      "source": [
        "# Path to saved model\n",
        "model_path = \"/content/drive/MyDrive/saved_models/optimized_nn3_model.keras\"\n",
        "\n",
        "# Load model architecture\n",
        "model = load_model(model_path)\n",
        "\n",
        "# Compile model again for training\n",
        "lr_schedule = ExponentialDecay(initial_learning_rate=0.0005, decay_steps=1000, decay_rate=0.9, staircase=True)\n",
        "\n",
        "model.compile(\n",
        "    optimizer=tf.keras.optimizers.Adam(learning_rate=lr_schedule),\n",
        "    loss='categorical_crossentropy',\n",
        "    metrics=['accuracy']\n",
        ")\n",
        "\n",
        "# Define early stopping to prevent overfitting\n",
        "callbacks = [EarlyStopping(monitor='val_loss', patience=15, restore_best_weights=True)]\n",
        "\n",
        "# Train model on new data\n",
        "history = model.fit(\n",
        "    X_train, y_train,\n",
        "    batch_size=16,\n",
        "    epochs=50,\n",
        "    validation_data=(X_val, y_val),\n",
        "    callbacks=callbacks,\n",
        "    class_weight=class_weights,\n",
        "    verbose=1\n",
        ")\n",
        "\n",
        "print(\"Model retraining completed successfully!\")\n"
      ],
      "metadata": {
        "colab": {
          "base_uri": "https://localhost:8080/"
        },
        "id": "NRNsFT6M7ka-",
        "outputId": "ccc9a890-f61b-4850-b8f2-2aab656281fe"
      },
      "execution_count": null,
      "outputs": [
        {
          "output_type": "stream",
          "name": "stdout",
          "text": [
            "Epoch 1/50\n",
            "\u001b[1m637/637\u001b[0m \u001b[32m━━━━━━━━━━━━━━━━━━━━\u001b[0m\u001b[37m\u001b[0m \u001b[1m21s\u001b[0m 25ms/step - accuracy: 0.7428 - loss: 0.9580 - val_accuracy: 0.7977 - val_loss: 0.8966\n",
            "Epoch 2/50\n",
            "\u001b[1m637/637\u001b[0m \u001b[32m━━━━━━━━━━━━━━━━━━━━\u001b[0m\u001b[37m\u001b[0m \u001b[1m18s\u001b[0m 22ms/step - accuracy: 0.7627 - loss: 1.0225 - val_accuracy: 0.8148 - val_loss: 0.9135\n",
            "Epoch 3/50\n",
            "\u001b[1m637/637\u001b[0m \u001b[32m━━━━━━━━━━━━━━━━━━━━\u001b[0m\u001b[37m\u001b[0m \u001b[1m21s\u001b[0m 23ms/step - accuracy: 0.7728 - loss: 1.0207 - val_accuracy: 0.8274 - val_loss: 0.8941\n",
            "Epoch 4/50\n",
            "\u001b[1m637/637\u001b[0m \u001b[32m━━━━━━━━━━━━━━━━━━━━\u001b[0m\u001b[37m\u001b[0m \u001b[1m20s\u001b[0m 22ms/step - accuracy: 0.7878 - loss: 0.9951 - val_accuracy: 0.8316 - val_loss: 0.8707\n",
            "Epoch 5/50\n",
            "\u001b[1m637/637\u001b[0m \u001b[32m━━━━━━━━━━━━━━━━━━━━\u001b[0m\u001b[37m\u001b[0m \u001b[1m20s\u001b[0m 22ms/step - accuracy: 0.7977 - loss: 0.9612 - val_accuracy: 0.8363 - val_loss: 0.8563\n",
            "Epoch 6/50\n",
            "\u001b[1m637/637\u001b[0m \u001b[32m━━━━━━━━━━━━━━━━━━━━\u001b[0m\u001b[37m\u001b[0m \u001b[1m21s\u001b[0m 22ms/step - accuracy: 0.8032 - loss: 0.9158 - val_accuracy: 0.8342 - val_loss: 0.8291\n",
            "Epoch 7/50\n",
            "\u001b[1m637/637\u001b[0m \u001b[32m━━━━━━━━━━━━━━━━━━━━\u001b[0m\u001b[37m\u001b[0m \u001b[1m21s\u001b[0m 23ms/step - accuracy: 0.8025 - loss: 0.9105 - val_accuracy: 0.8363 - val_loss: 0.7897\n",
            "Epoch 8/50\n",
            "\u001b[1m637/637\u001b[0m \u001b[32m━━━━━━━━━━━━━━━━━━━━\u001b[0m\u001b[37m\u001b[0m \u001b[1m19s\u001b[0m 21ms/step - accuracy: 0.8112 - loss: 0.8625 - val_accuracy: 0.8357 - val_loss: 0.7760\n",
            "Epoch 9/50\n",
            "\u001b[1m637/637\u001b[0m \u001b[32m━━━━━━━━━━━━━━━━━━━━\u001b[0m\u001b[37m\u001b[0m \u001b[1m22s\u001b[0m 24ms/step - accuracy: 0.8153 - loss: 0.8524 - val_accuracy: 0.8342 - val_loss: 0.7450\n",
            "Epoch 10/50\n",
            "\u001b[1m637/637\u001b[0m \u001b[32m━━━━━━━━━━━━━━━━━━━━\u001b[0m\u001b[37m\u001b[0m \u001b[1m19s\u001b[0m 22ms/step - accuracy: 0.8176 - loss: 0.8090 - val_accuracy: 0.8251 - val_loss: 0.7386\n",
            "Epoch 11/50\n",
            "\u001b[1m637/637\u001b[0m \u001b[32m━━━━━━━━━━━━━━━━━━━━\u001b[0m\u001b[37m\u001b[0m \u001b[1m21s\u001b[0m 22ms/step - accuracy: 0.8152 - loss: 0.7830 - val_accuracy: 0.8454 - val_loss: 0.7027\n",
            "Epoch 12/50\n",
            "\u001b[1m637/637\u001b[0m \u001b[32m━━━━━━━━━━━━━━━━━━━━\u001b[0m\u001b[37m\u001b[0m \u001b[1m14s\u001b[0m 22ms/step - accuracy: 0.8147 - loss: 0.7731 - val_accuracy: 0.8422 - val_loss: 0.6950\n",
            "Epoch 13/50\n",
            "\u001b[1m637/637\u001b[0m \u001b[32m━━━━━━━━━━━━━━━━━━━━\u001b[0m\u001b[37m\u001b[0m \u001b[1m21s\u001b[0m 22ms/step - accuracy: 0.8228 - loss: 0.7484 - val_accuracy: 0.8454 - val_loss: 0.6810\n",
            "Epoch 14/50\n",
            "\u001b[1m637/637\u001b[0m \u001b[32m━━━━━━━━━━━━━━━━━━━━\u001b[0m\u001b[37m\u001b[0m \u001b[1m21s\u001b[0m 23ms/step - accuracy: 0.8300 - loss: 0.7278 - val_accuracy: 0.8433 - val_loss: 0.6660\n",
            "Epoch 15/50\n",
            "\u001b[1m637/637\u001b[0m \u001b[32m━━━━━━━━━━━━━━━━━━━━\u001b[0m\u001b[37m\u001b[0m \u001b[1m14s\u001b[0m 22ms/step - accuracy: 0.8320 - loss: 0.6956 - val_accuracy: 0.8404 - val_loss: 0.6520\n",
            "Epoch 16/50\n",
            "\u001b[1m637/637\u001b[0m \u001b[32m━━━━━━━━━━━━━━━━━━━━\u001b[0m\u001b[37m\u001b[0m \u001b[1m14s\u001b[0m 22ms/step - accuracy: 0.8325 - loss: 0.6958 - val_accuracy: 0.8560 - val_loss: 0.6250\n",
            "Epoch 17/50\n",
            "\u001b[1m637/637\u001b[0m \u001b[32m━━━━━━━━━━━━━━━━━━━━\u001b[0m\u001b[37m\u001b[0m \u001b[1m21s\u001b[0m 23ms/step - accuracy: 0.8400 - loss: 0.6619 - val_accuracy: 0.8587 - val_loss: 0.6064\n",
            "Epoch 18/50\n",
            "\u001b[1m637/637\u001b[0m \u001b[32m━━━━━━━━━━━━━━━━━━━━\u001b[0m\u001b[37m\u001b[0m \u001b[1m14s\u001b[0m 23ms/step - accuracy: 0.8449 - loss: 0.6499 - val_accuracy: 0.8484 - val_loss: 0.6113\n",
            "Epoch 19/50\n",
            "\u001b[1m637/637\u001b[0m \u001b[32m━━━━━━━━━━━━━━━━━━━━\u001b[0m\u001b[37m\u001b[0m \u001b[1m14s\u001b[0m 22ms/step - accuracy: 0.8551 - loss: 0.6196 - val_accuracy: 0.8572 - val_loss: 0.5859\n",
            "Epoch 20/50\n",
            "\u001b[1m637/637\u001b[0m \u001b[32m━━━━━━━━━━━━━━━━━━━━\u001b[0m\u001b[37m\u001b[0m \u001b[1m21s\u001b[0m 23ms/step - accuracy: 0.8552 - loss: 0.6149 - val_accuracy: 0.8551 - val_loss: 0.5745\n",
            "Epoch 21/50\n",
            "\u001b[1m637/637\u001b[0m \u001b[32m━━━━━━━━━━━━━━━━━━━━\u001b[0m\u001b[37m\u001b[0m \u001b[1m20s\u001b[0m 22ms/step - accuracy: 0.8525 - loss: 0.6001 - val_accuracy: 0.8640 - val_loss: 0.5507\n",
            "Epoch 22/50\n",
            "\u001b[1m637/637\u001b[0m \u001b[32m━━━━━━━━━━━━━━━━━━━━\u001b[0m\u001b[37m\u001b[0m \u001b[1m21s\u001b[0m 22ms/step - accuracy: 0.8437 - loss: 0.5962 - val_accuracy: 0.8534 - val_loss: 0.5568\n",
            "Epoch 23/50\n",
            "\u001b[1m637/637\u001b[0m \u001b[32m━━━━━━━━━━━━━━━━━━━━\u001b[0m\u001b[37m\u001b[0m \u001b[1m20s\u001b[0m 22ms/step - accuracy: 0.8559 - loss: 0.5713 - val_accuracy: 0.8631 - val_loss: 0.5349\n",
            "Epoch 24/50\n",
            "\u001b[1m637/637\u001b[0m \u001b[32m━━━━━━━━━━━━━━━━━━━━\u001b[0m\u001b[37m\u001b[0m \u001b[1m14s\u001b[0m 22ms/step - accuracy: 0.8492 - loss: 0.5714 - val_accuracy: 0.8610 - val_loss: 0.5260\n",
            "Epoch 25/50\n",
            "\u001b[1m637/637\u001b[0m \u001b[32m━━━━━━━━━━━━━━━━━━━━\u001b[0m\u001b[37m\u001b[0m \u001b[1m21s\u001b[0m 23ms/step - accuracy: 0.8625 - loss: 0.5439 - val_accuracy: 0.8610 - val_loss: 0.5218\n",
            "Epoch 26/50\n",
            "\u001b[1m637/637\u001b[0m \u001b[32m━━━━━━━━━━━━━━━━━━━━\u001b[0m\u001b[37m\u001b[0m \u001b[1m20s\u001b[0m 22ms/step - accuracy: 0.8552 - loss: 0.5437 - val_accuracy: 0.8657 - val_loss: 0.5202\n",
            "Epoch 27/50\n",
            "\u001b[1m637/637\u001b[0m \u001b[32m━━━━━━━━━━━━━━━━━━━━\u001b[0m\u001b[37m\u001b[0m \u001b[1m21s\u001b[0m 22ms/step - accuracy: 0.8572 - loss: 0.5368 - val_accuracy: 0.8628 - val_loss: 0.5098\n",
            "Epoch 28/50\n",
            "\u001b[1m637/637\u001b[0m \u001b[32m━━━━━━━━━━━━━━━━━━━━\u001b[0m\u001b[37m\u001b[0m \u001b[1m21s\u001b[0m 23ms/step - accuracy: 0.8618 - loss: 0.5204 - val_accuracy: 0.8634 - val_loss: 0.4984\n",
            "Epoch 29/50\n",
            "\u001b[1m637/637\u001b[0m \u001b[32m━━━━━━━━━━━━━━━━━━━━\u001b[0m\u001b[37m\u001b[0m \u001b[1m20s\u001b[0m 22ms/step - accuracy: 0.8697 - loss: 0.5022 - val_accuracy: 0.8648 - val_loss: 0.4970\n",
            "Epoch 30/50\n",
            "\u001b[1m637/637\u001b[0m \u001b[32m━━━━━━━━━━━━━━━━━━━━\u001b[0m\u001b[37m\u001b[0m \u001b[1m21s\u001b[0m 23ms/step - accuracy: 0.8671 - loss: 0.4925 - val_accuracy: 0.8660 - val_loss: 0.5016\n",
            "Epoch 31/50\n",
            "\u001b[1m637/637\u001b[0m \u001b[32m━━━━━━━━━━━━━━━━━━━━\u001b[0m\u001b[37m\u001b[0m \u001b[1m20s\u001b[0m 22ms/step - accuracy: 0.8667 - loss: 0.4906 - val_accuracy: 0.8601 - val_loss: 0.4992\n",
            "Epoch 32/50\n",
            "\u001b[1m637/637\u001b[0m \u001b[32m━━━━━━━━━━━━━━━━━━━━\u001b[0m\u001b[37m\u001b[0m \u001b[1m21s\u001b[0m 22ms/step - accuracy: 0.8599 - loss: 0.4885 - val_accuracy: 0.8678 - val_loss: 0.4862\n",
            "Epoch 33/50\n",
            "\u001b[1m637/637\u001b[0m \u001b[32m━━━━━━━━━━━━━━━━━━━━\u001b[0m\u001b[37m\u001b[0m \u001b[1m20s\u001b[0m 22ms/step - accuracy: 0.8688 - loss: 0.4886 - val_accuracy: 0.8675 - val_loss: 0.4864\n",
            "Epoch 34/50\n",
            "\u001b[1m637/637\u001b[0m \u001b[32m━━━━━━━━━━━━━━━━━━━━\u001b[0m\u001b[37m\u001b[0m \u001b[1m14s\u001b[0m 22ms/step - accuracy: 0.8731 - loss: 0.4680 - val_accuracy: 0.8713 - val_loss: 0.4783\n",
            "Epoch 35/50\n",
            "\u001b[1m637/637\u001b[0m \u001b[32m━━━━━━━━━━━━━━━━━━━━\u001b[0m\u001b[37m\u001b[0m \u001b[1m14s\u001b[0m 22ms/step - accuracy: 0.8695 - loss: 0.4630 - val_accuracy: 0.8672 - val_loss: 0.4714\n",
            "Epoch 36/50\n",
            "\u001b[1m637/637\u001b[0m \u001b[32m━━━━━━━━━━━━━━━━━━━━\u001b[0m\u001b[37m\u001b[0m \u001b[1m21s\u001b[0m 23ms/step - accuracy: 0.8801 - loss: 0.4387 - val_accuracy: 0.8687 - val_loss: 0.4705\n",
            "Epoch 37/50\n",
            "\u001b[1m637/637\u001b[0m \u001b[32m━━━━━━━━━━━━━━━━━━━━\u001b[0m\u001b[37m\u001b[0m \u001b[1m21s\u001b[0m 23ms/step - accuracy: 0.8708 - loss: 0.4607 - val_accuracy: 0.8634 - val_loss: 0.4734\n",
            "Epoch 38/50\n",
            "\u001b[1m637/637\u001b[0m \u001b[32m━━━━━━━━━━━━━━━━━━━━\u001b[0m\u001b[37m\u001b[0m \u001b[1m15s\u001b[0m 24ms/step - accuracy: 0.8653 - loss: 0.4614 - val_accuracy: 0.8696 - val_loss: 0.4661\n",
            "Epoch 39/50\n",
            "\u001b[1m637/637\u001b[0m \u001b[32m━━━━━━━━━━━━━━━━━━━━\u001b[0m\u001b[37m\u001b[0m \u001b[1m15s\u001b[0m 23ms/step - accuracy: 0.8718 - loss: 0.4449 - val_accuracy: 0.8710 - val_loss: 0.4762\n",
            "Epoch 40/50\n",
            "\u001b[1m637/637\u001b[0m \u001b[32m━━━━━━━━━━━━━━━━━━━━\u001b[0m\u001b[37m\u001b[0m \u001b[1m15s\u001b[0m 24ms/step - accuracy: 0.8716 - loss: 0.4504 - val_accuracy: 0.8672 - val_loss: 0.4594\n",
            "Epoch 41/50\n",
            "\u001b[1m637/637\u001b[0m \u001b[32m━━━━━━━━━━━━━━━━━━━━\u001b[0m\u001b[37m\u001b[0m \u001b[1m15s\u001b[0m 24ms/step - accuracy: 0.8793 - loss: 0.4239 - val_accuracy: 0.8657 - val_loss: 0.4634\n",
            "Epoch 42/50\n",
            "\u001b[1m637/637\u001b[0m \u001b[32m━━━━━━━━━━━━━━━━━━━━\u001b[0m\u001b[37m\u001b[0m \u001b[1m23s\u001b[0m 28ms/step - accuracy: 0.8777 - loss: 0.4368 - val_accuracy: 0.8678 - val_loss: 0.4600\n",
            "Epoch 43/50\n",
            "\u001b[1m637/637\u001b[0m \u001b[32m━━━━━━━━━━━━━━━━━━━━\u001b[0m\u001b[37m\u001b[0m \u001b[1m21s\u001b[0m 28ms/step - accuracy: 0.8820 - loss: 0.4169 - val_accuracy: 0.8675 - val_loss: 0.4546\n",
            "Epoch 44/50\n",
            "\u001b[1m637/637\u001b[0m \u001b[32m━━━━━━━━━━━━━━━━━━━━\u001b[0m\u001b[37m\u001b[0m \u001b[1m16s\u001b[0m 24ms/step - accuracy: 0.8821 - loss: 0.4209 - val_accuracy: 0.8743 - val_loss: 0.4496\n",
            "Epoch 45/50\n",
            "\u001b[1m637/637\u001b[0m \u001b[32m━━━━━━━━━━━━━━━━━━━━\u001b[0m\u001b[37m\u001b[0m \u001b[1m22s\u001b[0m 27ms/step - accuracy: 0.8737 - loss: 0.4227 - val_accuracy: 0.8687 - val_loss: 0.4511\n",
            "Epoch 46/50\n",
            "\u001b[1m637/637\u001b[0m \u001b[32m━━━━━━━━━━━━━━━━━━━━\u001b[0m\u001b[37m\u001b[0m \u001b[1m19s\u001b[0m 25ms/step - accuracy: 0.8753 - loss: 0.4166 - val_accuracy: 0.8675 - val_loss: 0.4523\n",
            "Epoch 47/50\n",
            "\u001b[1m637/637\u001b[0m \u001b[32m━━━━━━━━━━━━━━━━━━━━\u001b[0m\u001b[37m\u001b[0m \u001b[1m16s\u001b[0m 25ms/step - accuracy: 0.8762 - loss: 0.4224 - val_accuracy: 0.8693 - val_loss: 0.4521\n",
            "Epoch 48/50\n",
            "\u001b[1m637/637\u001b[0m \u001b[32m━━━━━━━━━━━━━━━━━━━━\u001b[0m\u001b[37m\u001b[0m \u001b[1m22s\u001b[0m 28ms/step - accuracy: 0.8813 - loss: 0.4133 - val_accuracy: 0.8660 - val_loss: 0.4470\n",
            "Epoch 49/50\n",
            "\u001b[1m637/637\u001b[0m \u001b[32m━━━━━━━━━━━━━━━━━━━━\u001b[0m\u001b[37m\u001b[0m \u001b[1m21s\u001b[0m 28ms/step - accuracy: 0.8775 - loss: 0.4115 - val_accuracy: 0.8648 - val_loss: 0.4505\n",
            "Epoch 50/50\n",
            "\u001b[1m637/637\u001b[0m \u001b[32m━━━━━━━━━━━━━━━━━━━━\u001b[0m\u001b[37m\u001b[0m \u001b[1m18s\u001b[0m 24ms/step - accuracy: 0.8850 - loss: 0.3998 - val_accuracy: 0.8666 - val_loss: 0.4478\n",
            "Model retraining completed successfully!\n"
          ]
        }
      ]
    },
    {
      "cell_type": "markdown",
      "source": [
        "Model Evaluation"
      ],
      "metadata": {
        "id": "9WgNLy5FBHnI"
      }
    },
    {
      "cell_type": "code",
      "source": [
        "print(\"\\nEvaluating the model on the test set...\")\n",
        "test_loss, test_accuracy = model.evaluate(X_test, y_test, verbose=1)\n",
        "\n",
        "# Display final test accuracy\n",
        "print(f\"\\nUpdated Test Accuracy: {test_accuracy:.2f}\")\n",
        "print(f\"Updated Test Loss: {test_loss:.2f}\")\n"
      ],
      "metadata": {
        "colab": {
          "base_uri": "https://localhost:8080/"
        },
        "id": "mAIzFDte7kd2",
        "outputId": "4e26a9e2-376b-4b50-aada-747f28b07557"
      },
      "execution_count": null,
      "outputs": [
        {
          "output_type": "stream",
          "name": "stdout",
          "text": [
            "\n",
            "Evaluating the model on the test set...\n",
            "\u001b[1m107/107\u001b[0m \u001b[32m━━━━━━━━━━━━━━━━━━━━\u001b[0m\u001b[37m\u001b[0m \u001b[1m1s\u001b[0m 7ms/step - accuracy: 0.8809 - loss: 0.4162\n",
            "\n",
            "Updated Test Accuracy: 0.88\n",
            "Updated Test Loss: 0.42\n"
          ]
        }
      ]
    },
    {
      "cell_type": "code",
      "source": [
        "from sklearn.metrics import classification_report\n",
        "import numpy as np\n",
        "\n",
        "\n",
        "y_pred = model.predict(X_test)\n",
        "y_pred_classes = np.argmax(y_pred, axis=1)\n",
        "\n",
        "y_test_classes = np.argmax(y_test, axis=1)\n",
        "\n",
        "# Step 3: Generate the classification report\n",
        "report = classification_report(y_test_classes, y_pred_classes)\n",
        "print(report)"
      ],
      "metadata": {
        "colab": {
          "base_uri": "https://localhost:8080/"
        },
        "id": "x5iREOQjBSXm",
        "outputId": "f1f9b1c0-46cc-47dd-83bf-24a49b3d553b"
      },
      "execution_count": null,
      "outputs": [
        {
          "output_type": "stream",
          "name": "stdout",
          "text": [
            "\u001b[1m107/107\u001b[0m \u001b[32m━━━━━━━━━━━━━━━━━━━━\u001b[0m\u001b[37m\u001b[0m \u001b[1m1s\u001b[0m 6ms/step\n",
            "              precision    recall  f1-score   support\n",
            "\n",
            "           0       0.93      0.81      0.87      1148\n",
            "           1       0.86      0.96      0.90      1120\n",
            "           2       0.86      0.87      0.87      1128\n",
            "\n",
            "    accuracy                           0.88      3396\n",
            "   macro avg       0.88      0.88      0.88      3396\n",
            "weighted avg       0.88      0.88      0.88      3396\n",
            "\n"
          ]
        }
      ]
    },
    {
      "cell_type": "markdown",
      "source": [
        "Plot Training Loss"
      ],
      "metadata": {
        "id": "L7SL3oj9BTv5"
      }
    },
    {
      "cell_type": "code",
      "source": [
        "plt.plot(history.history['loss'], label='Train Loss')\n",
        "plt.plot(history.history['val_loss'], label='Validation Loss')\n",
        "plt.xlabel('Epochs')\n",
        "plt.ylabel('Loss')\n",
        "plt.title('Loss Curve for Retrained NN3')\n",
        "plt.legend()\n",
        "plt.show()\n"
      ],
      "metadata": {
        "colab": {
          "base_uri": "https://localhost:8080/",
          "height": 472
        },
        "id": "dk_zypy37kgt",
        "outputId": "80b4282b-df75-498e-8521-9c7fb81fbdd9"
      },
      "execution_count": null,
      "outputs": [
        {
          "output_type": "display_data",
          "data": {
            "text/plain": [
              "<Figure size 640x480 with 1 Axes>"
            ],
            "image/png": "[encoded data removed]"
          },
          "metadata": {}
        }
      ]
    },
    {
      "cell_type": "markdown",
      "source": [
        "Saving Model"
      ],
      "metadata": {
        "id": "gK9zPv1HBMTG"
      }
    },
    {
      "cell_type": "code",
      "source": [
        "import tensorflow as tf\n",
        "# Save retrained model\n",
        "model.save(\"/content/drive/MyDrive/saved_models/healthcare_precict.h5\")\n",
        "\n",
        "# Save preprocessors\n",
        "joblib.dump(preprocessors, \"/content/drive/MyDrive/saved_preprocessors/preprocessors_latest.pkl\")\n",
        "\n",
        "print(\"Retrained model and preprocessors saved successfully!\")\n"
      ],
      "metadata": {
        "colab": {
          "base_uri": "https://localhost:8080/"
        },
        "id": "M0YYl6kqCD56",
        "outputId": "3ace08cb-7aa3-48b7-98be-6f01f11a5082"
      },
      "execution_count": null,
      "outputs": [
        {
          "output_type": "stream",
          "name": "stderr",
          "text": [
            "WARNING:absl:You are saving your model as an HDF5 file via `model.save()` or `keras.saving.save_model(model)`. This file format is considered legacy. We recommend using instead the native Keras format, e.g. `model.save('my_model.keras')` or `keras.saving.save_model(model, 'my_model.keras')`. \n"
          ]
        },
        {
          "output_type": "stream",
          "name": "stdout",
          "text": [
            "Retrained model and preprocessors saved successfully!\n"
          ]
        }
      ]
    },
    {
      "cell_type": "code",
      "source": [
        "# Step 1: Import Required Libraries\n",
        "import pandas as pd\n",
        "import numpy as np\n",
        "import joblib\n",
        "from warnings import simplefilter\n",
        "from tensorflow.keras.models import load_model\n",
        "from preprocessing_code import prepare_prediction_data\n",
        "\n",
        "simplefilter(action=\"ignore\", category=pd.errors.PerformanceWarning)\n",
        "\n",
        "# Step 2: Load Model & Preprocessors\n",
        "model_path = \"/content/drive/MyDrive/saved_models/healthcare_precict.h5\"\n",
        "preprocessor_path = \"/content/drive/MyDrive/saved_preprocessors/preprocessors_latest.pkl\"\n",
        "\n",
        "# Load model and preprocessing objects\n",
        "model = load_model(model_path)\n",
        "with open(preprocessor_path, \"rb\") as preprocessor_file:\n",
        "    preprocessors = joblib.load(preprocessor_file)\n",
        "\n",
        "print(\"Model and preprocessors loaded successfully.\")\n",
        "\n",
        "# Step 3: Define New Data for Prediction\n",
        "new_data = pd.DataFrame([{\n",
        "    'services': 'X-ray, lab tests',\n",
        "    'operating_hours': '9am-5pm',\n",
        "    'care_system': 'Public',\n",
        "    'mode of payment': 'Insurance',\n",
        "    'Subcounty': 'Abia Subcounty',\n",
        "    'latitude': 1.2345,\n",
        "    'longitude': 36.789\n",
        "}])\n",
        "\n",
        "try:\n",
        "    # Step 4: Preprocess Input Data\n",
        "    X_pred = prepare_prediction_data(new_data, preprocessors)\n",
        "\n",
        "    # Step 5: Make Prediction\n",
        "    prediction_probs = model.predict(X_pred)\n",
        "\n",
        "    # Step 6: Convert Probabilities to Class Indices\n",
        "    predicted_class_index = np.argmax(prediction_probs, axis=1)\n",
        "\n",
        "    # Step 7: Convert Class Index to Label\n",
        "    label_encoder = preprocessors['label_encoder']\n",
        "    predicted_label = label_encoder.inverse_transform(predicted_class_index)[0]\n",
        "\n",
        "    # Step 8: Print Final Prediction Result\n",
        "    print(f\"Predicted Healthcare Facility Rating: {predicted_label}\")\n",
        "\n",
        "except Exception as e:\n",
        "    print(f\"Prediction failed: {e}\")\n"
      ],
      "metadata": {
        "colab": {
          "base_uri": "https://localhost:8080/"
        },
        "id": "tddNl1lKCSc5",
        "outputId": "7a24c34d-fd1d-4fbe-ef35-41a3a9805eb5"
      },
      "execution_count": null,
      "outputs": [
        {
          "output_type": "stream",
          "name": "stderr",
          "text": [
            "WARNING:absl:Compiled the loaded model, but the compiled metrics have yet to be built. `model.compile_metrics` will be empty until you train or evaluate the model.\n"
          ]
        },
        {
          "output_type": "stream",
          "name": "stdout",
          "text": [
            "Model and preprocessors loaded successfully.\n",
            "Total feature names: 1701\n",
            "Unique feature names: 1701\n",
            "Columns in X before reindexing: 1501\n",
            "\u001b[1m1/1\u001b[0m \u001b[32m━━━━━━━━━━━━━━━━━━━━\u001b[0m\u001b[37m\u001b[0m \u001b[1m0s\u001b[0m 254ms/step\n",
            "Predicted Healthcare Facility Rating: High\n"
          ]
        }
      ]
    }
  ]
}